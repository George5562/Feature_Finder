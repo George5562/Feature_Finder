{
 "cells": [
  {
   "cell_type": "code",
   "execution_count": 57,
   "metadata": {},
   "outputs": [],
   "source": [
    "import torch\n",
    "import torch.nn as nn\n",
    "import torch.optim as optim\n",
    "import numpy as np\n",
    "import pandas as pd\n",
    "from sklearn.model_selection import train_test_split\n",
    "from sklearn.preprocessing import MinMaxScaler\n"
   ]
  },
  {
   "cell_type": "code",
   "execution_count": 58,
   "metadata": {},
   "outputs": [],
   "source": [
    "\n",
    "data = pd.read_csv('processed_data_final.csv')\n",
    "X = data.drop(columns=['JobSatisfaction_O'])\n",
    "y = data['JobSatisfaction_O']"
   ]
  },
  {
   "cell_type": "code",
   "execution_count": 59,
   "metadata": {},
   "outputs": [],
   "source": [
    "# Identify columns by category\n",
    "numerical_fixed_columns = [col for col in X.columns if col.endswith('_F') and X[col].dtype == 'float64']\n",
    "numerical_actionable_columns = [col for col in X.columns if col.endswith('_A') and X[col].dtype == 'float64']\n",
    "binary_fixed_columns = [col for col in X.columns if col.endswith('_F') and X[col].dtype == 'int64']\n",
    "binary_actionable_columns = [col for col in X.columns if col.endswith('_A') and X[col].dtype == 'int64']"
   ]
  },
  {
   "cell_type": "code",
   "execution_count": 60,
   "metadata": {},
   "outputs": [],
   "source": [
    "binary_actionable_groups = {}\n",
    "for col in binary_actionable_columns:\n",
    "    question_prefix = '_'.join(col.split('_')[:-2])\n",
    "    if question_prefix not in binary_actionable_groups:\n",
    "        binary_actionable_groups[question_prefix] = []\n",
    "    binary_actionable_groups[question_prefix].append(col)"
   ]
  },
  {
   "cell_type": "code",
   "execution_count": 61,
   "metadata": {},
   "outputs": [],
   "source": [
    "scaler = MinMaxScaler()\n",
    "X[numerical_fixed_columns + numerical_actionable_columns] = scaler.fit_transform(X[numerical_fixed_columns + numerical_actionable_columns])"
   ]
  },
  {
   "cell_type": "code",
   "execution_count": 62,
   "metadata": {},
   "outputs": [],
   "source": [
    "preprocessing_info = {\n",
    "    'numerical_fixed_columns': numerical_fixed_columns,\n",
    "    'numerical_actionable_columns': numerical_actionable_columns,\n",
    "    'binary_fixed_columns': binary_fixed_columns,\n",
    "    'binary_actionable_groups': binary_actionable_groups,\n",
    "    'scaler': scaler\n",
    "}"
   ]
  },
  {
   "cell_type": "code",
   "execution_count": 69,
   "metadata": {},
   "outputs": [],
   "source": [
    "X_train_val, X_test, y_train_val, y_test = train_test_split(X, y, test_size=0.1, random_state=8)\n",
    "X_train, X_val, y_train, y_val = train_test_split(X_train_val, y_train_val, test_size=0.111, random_state=8)  "
   ]
  },
  {
   "cell_type": "code",
   "execution_count": 70,
   "metadata": {},
   "outputs": [],
   "source": [
    "# Convert the data to PyTorch tensors\n",
    "X_train = torch.tensor(X_train.values, dtype=torch.float32)\n",
    "y_train = torch.tensor(y_train.values, dtype=torch.float32).view(-1, 1)\n",
    "X_val = torch.tensor(X_val.values, dtype=torch.float32)\n",
    "y_val = torch.tensor(y_val.values, dtype=torch.float32).view(-1, 1)\n",
    "X_test = torch.tensor(X_test.values, dtype=torch.float32)\n",
    "y_test = torch.tensor(y_test.values, dtype=torch.float32).view(-1, 1)"
   ]
  },
  {
   "cell_type": "code",
   "execution_count": 71,
   "metadata": {},
   "outputs": [
    {
     "name": "stdout",
     "output_type": "stream",
     "text": [
      "Number of entries in X_train: 13374\n",
      "Number of entries in X_val: 1670\n",
      "Number of entries in X_test: 1672\n",
      "Number of entries in y_train: 13374\n",
      "Number of entries in y_val: 1670\n",
      "Number of entries in y_test: 1672\n"
     ]
    }
   ],
   "source": [
    "print(\"Number of entries in X_train:\", X_train.shape[0])\n",
    "print(\"Number of entries in X_val:\", X_val.shape[0])\n",
    "print(\"Number of entries in X_test:\", X_test.shape[0])\n",
    "print(\"Number of entries in y_train:\", y_train.shape[0])\n",
    "print(\"Number of entries in y_val:\", y_val.shape[0])\n",
    "print(\"Number of entries in y_test:\", y_test.shape[0])\n"
   ]
  },
  {
   "cell_type": "code",
   "execution_count": 72,
   "metadata": {},
   "outputs": [],
   "source": [
    "# Define the neural network model with dropout layers\n",
    "class JobSatisfactionNN(nn.Module):\n",
    "    def __init__(self, input_dim):\n",
    "        super(JobSatisfactionNN, self).__init__()\n",
    "        self.fc1 = nn.Linear(input_dim, 128)\n",
    "        self.dropout1 = nn.Dropout(0.5)  # Dropout layer after the first fully connected layer\n",
    "        self.fc2 = nn.Linear(128, 64)\n",
    "        self.dropout2 = nn.Dropout(0.5)  # Dropout layer after the second fully connected layer\n",
    "        self.fc3 = nn.Linear(64, 1)\n",
    "        \n",
    "    def forward(self, x):\n",
    "        x = torch.relu(self.fc1(x))\n",
    "        x = self.dropout1(x)  # Applying dropout after activation\n",
    "        x = torch.relu(self.fc2(x))\n",
    "        x = self.dropout2(x)  # Applying dropout after activation\n",
    "        x = self.fc3(x)\n",
    "        return x"
   ]
  },
  {
   "cell_type": "code",
   "execution_count": 73,
   "metadata": {},
   "outputs": [],
   "source": [
    "# Training configuration\n",
    "input_dim = X.shape[1]\n",
    "num_epochs = 500\n",
    "batch_size = 32\n",
    "learning_rate = 0.0005\n",
    "best_val_loss = float('inf')\n",
    "best_epoch = 0\n",
    "patience = 20\n",
    "epochs_no_improve = 0\n"
   ]
  },
  {
   "cell_type": "code",
   "execution_count": 74,
   "metadata": {},
   "outputs": [],
   "source": [
    "# Initialize the model, loss function, and optimizer\n",
    "model = JobSatisfactionNN(input_dim)\n",
    "criterion = nn.MSELoss()\n",
    "optimizer = optim.Adam(model.parameters(), lr=learning_rate, weight_decay=0.0001)"
   ]
  },
  {
   "cell_type": "code",
   "execution_count": 75,
   "metadata": {},
   "outputs": [
    {
     "name": "stdout",
     "output_type": "stream",
     "text": [
      "Early stopping at epoch 108\n",
      "Final Training Loss: 0.6257\n",
      "Final Validation Loss: 0.8106\n"
     ]
    }
   ],
   "source": [
    "for epoch in range(num_epochs):\n",
    "    model.train()\n",
    "    optimizer.zero_grad()\n",
    "    outputs = model(X_train)\n",
    "    train_loss = criterion(outputs, y_train)\n",
    "    train_loss.backward()\n",
    "    optimizer.step()\n",
    "\n",
    "    # Validation phase\n",
    "    model.eval()\n",
    "    with torch.no_grad():\n",
    "        val_outputs = model(X_val)\n",
    "        val_loss = criterion(val_outputs, y_val)\n",
    "\n",
    "    # Early stopping logic based on validation loss\n",
    "    if val_loss < best_val_loss:\n",
    "        best_val_loss = val_loss\n",
    "        best_epoch = epoch\n",
    "        torch.save(model.state_dict(), 'best_model.pth')\n",
    "        epochs_no_improve = 0\n",
    "    else:\n",
    "        epochs_no_improve += 1\n",
    "\n",
    "    if epochs_no_improve == patience:\n",
    "        print(f'Early stopping at epoch {epoch+1}')\n",
    "        break\n",
    "\n",
    "# Print final training and validation error\n",
    "print(f'Final Training Loss: {train_loss.item():.4f}')\n",
    "print(f'Final Validation Loss: {val_loss.item():.4f}')\n"
   ]
  },
  {
   "cell_type": "code",
   "execution_count": 76,
   "metadata": {},
   "outputs": [
    {
     "name": "stdout",
     "output_type": "stream",
     "text": [
      "Test Loss: 0.8644\n"
     ]
    }
   ],
   "source": [
    "X_train_val = torch.cat((X_train, X_val), 0)\n",
    "y_train_val = torch.cat((y_train, y_val), 0)\n",
    "\n",
    "model.load_state_dict(torch.load('best_model.pth'))  \n",
    "for epoch in range(best_epoch + 1):\n",
    "    model.train()\n",
    "    optimizer.zero_grad()\n",
    "    outputs = model(X_train_val)\n",
    "    loss = criterion(outputs, y_train_val)\n",
    "    loss.backward()\n",
    "    optimizer.step()\n",
    "\n",
    "    # Step 4: Test the model\n",
    "model.eval()\n",
    "with torch.no_grad():\n",
    "    test_outputs = model(X_test)\n",
    "    test_loss = criterion(test_outputs, y_test)\n",
    "print(f'Test Loss: {test_loss.item():.4f}')"
   ]
  },
  {
   "cell_type": "code",
   "execution_count": 77,
   "metadata": {},
   "outputs": [],
   "source": [
    "# Save the best model as the final model\n",
    "torch.save(torch.load('best_model.pth'), 'final_model.pth')\n",
    "\n"
   ]
  },
  {
   "cell_type": "code",
   "execution_count": null,
   "metadata": {},
   "outputs": [],
   "source": []
  }
 ],
 "metadata": {
  "colab": {
   "collapsed_sections": [
    "bwm_mid16SQA",
    "2LPXAR9X6SQB",
    "v42SoQeD6SQB",
    "xYyQicVr6SQB",
    "K-MMbhAC6SQF"
   ],
   "name": "IMP-PCMLAI-M23-reinforcement-learning-tutorial.ipynb",
   "provenance": []
  },
  "kernelspec": {
   "display_name": "Python 3 (ipykernel)",
   "language": "python",
   "name": "python3"
  },
  "language_info": {
   "codemirror_mode": {
    "name": "ipython",
    "version": 3
   },
   "file_extension": ".py",
   "mimetype": "text/x-python",
   "name": "python",
   "nbconvert_exporter": "python",
   "pygments_lexer": "ipython3",
   "version": "3.11.9"
  }
 },
 "nbformat": 4,
 "nbformat_minor": 1
}
