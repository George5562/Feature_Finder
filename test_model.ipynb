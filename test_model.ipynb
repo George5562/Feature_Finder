{
 "cells": [
  {
   "cell_type": "code",
   "execution_count": 13,
   "metadata": {},
   "outputs": [],
   "source": [
    "import torch\n",
    "import torch.nn as nn\n",
    "import torch.optim as optim\n",
    "from sklearn.model_selection import KFold\n",
    "import numpy as np\n",
    "import pandas as pd\n",
    "from sklearn.preprocessing import StandardScaler\n",
    "import matplotlib.pyplot as plt\n",
    "\n"
   ]
  },
  {
   "cell_type": "code",
   "execution_count": 14,
   "metadata": {},
   "outputs": [],
   "source": [
    "\n",
    "data = pd.read_csv('processed_data_final.csv')\n",
    "X = data.drop(columns=['JobSatisfaction_O'])\n",
    "y = data['JobSatisfaction_O']"
   ]
  },
  {
   "cell_type": "code",
   "execution_count": 15,
   "metadata": {},
   "outputs": [],
   "source": [
    "# Identify columns by category\n",
    "numerical_fixed_columns = [col for col in X.columns if col.endswith('_F') and X[col].dtype == 'float64']\n",
    "numerical_actionable_columns = [col for col in X.columns if col.endswith('_A') and X[col].dtype == 'float64']\n",
    "binary_fixed_columns = [col for col in X.columns if col.endswith('_F') and X[col].dtype == 'int64']\n",
    "binary_actionable_columns = [col for col in X.columns if col.endswith('_A') and X[col].dtype == 'int64']"
   ]
  },
  {
   "cell_type": "code",
   "execution_count": 16,
   "metadata": {},
   "outputs": [],
   "source": [
    "binary_actionable_groups = {}\n",
    "for col in binary_actionable_columns:\n",
    "    question_prefix = '_'.join(col.split('_')[:-2])\n",
    "    if question_prefix not in binary_actionable_groups:\n",
    "        binary_actionable_groups[question_prefix] = []\n",
    "    binary_actionable_groups[question_prefix].append(col)"
   ]
  },
  {
   "cell_type": "code",
   "execution_count": 17,
   "metadata": {},
   "outputs": [],
   "source": [
    "from sklearn.preprocessing import MinMaxScaler\n",
    "\n",
    "scaler = MinMaxScaler()\n",
    "X[numerical_fixed_columns + numerical_actionable_columns] = scaler.fit_transform(X[numerical_fixed_columns + numerical_actionable_columns])"
   ]
  },
  {
   "cell_type": "code",
   "execution_count": 18,
   "metadata": {},
   "outputs": [],
   "source": [
    "preprocessing_info = {\n",
    "    'numerical_fixed_columns': numerical_fixed_columns,\n",
    "    'numerical_actionable_columns': numerical_actionable_columns,\n",
    "    'binary_fixed_columns': binary_fixed_columns,\n",
    "    'binary_actionable_groups': binary_actionable_groups,\n",
    "    'scaler': scaler\n",
    "}"
   ]
  },
  {
   "cell_type": "code",
   "execution_count": 19,
   "metadata": {},
   "outputs": [],
   "source": [
    "# Convert the data to PyTorch tensors\n",
    "X_tensor = torch.tensor(X.values, dtype=torch.float32)\n",
    "y_tensor = torch.tensor(y.values, dtype=torch.float32).view(-1, 1)\n"
   ]
  },
  {
   "cell_type": "code",
   "execution_count": 20,
   "metadata": {},
   "outputs": [],
   "source": [
    "class JobSatisfactionNN(nn.Module):\n",
    "    def __init__(self, input_dim, dropout_rate=0.5):\n",
    "        super(JobSatisfactionNN, self).__init__()\n",
    "        self.fc1 = nn.Linear(input_dim, 128)\n",
    "        self.dropout1 = nn.Dropout(dropout_rate)\n",
    "        self.fc2 = nn.Linear(128, 64)\n",
    "        self.dropout2 = nn.Dropout(dropout_rate)\n",
    "        self.fc3 = nn.Linear(64, 1)\n",
    "        \n",
    "    def forward(self, x):\n",
    "        x = torch.relu(self.fc1(x))\n",
    "        x = self.dropout1(x)\n",
    "        x = torch.relu(self.fc2(x))\n",
    "        x = self.dropout2(x)\n",
    "        x = self.fc3(x)\n",
    "        return x"
   ]
  },
  {
   "cell_type": "code",
   "execution_count": 21,
   "metadata": {},
   "outputs": [],
   "source": [
    "# Training configuration\n",
    "input_dim = X.shape[1]\n",
    "num_epochs = 50\n",
    "batch_size = 32\n",
    "learning_rate = 0.0005\n",
    "k_folds = 10"
   ]
  },
  {
   "cell_type": "code",
   "execution_count": 22,
   "metadata": {},
   "outputs": [],
   "source": [
    "# Initialize the model, loss function, and optimizer\n",
    "model = JobSatisfactionNN(input_dim, dropout_rate=0.3)\n",
    "criterion = nn.MSELoss()\n",
    "# Initialize the optimizer with L2 regularization\n",
    "optimizer = optim.Adam(model.parameters(), lr=learning_rate, weight_decay=0.0001)  "
   ]
  },
  {
   "cell_type": "code",
   "execution_count": 23,
   "metadata": {},
   "outputs": [],
   "source": [
    "# Set up cross-validation\n",
    "kf = KFold(n_splits=k_folds, shuffle=True, random_state=5)\n",
    "fold_train_losses = []\n",
    "fold_val_losses = []"
   ]
  },
  {
   "cell_type": "code",
   "execution_count": 24,
   "metadata": {},
   "outputs": [
    {
     "name": "stdout",
     "output_type": "stream",
     "text": [
      "Fold 1/10\n",
      "Epoch 10/50, Loss: 0.1377, Val Loss: 0.9222\n",
      "Epoch 20/50, Loss: 0.8377, Val Loss: 0.9650\n",
      "Epoch 30/50, Loss: 0.0110, Val Loss: 1.0240\n",
      "Epoch 40/50, Loss: 0.5212, Val Loss: 1.0579\n",
      "Epoch 50/50, Loss: 0.0011, Val Loss: 1.0158\n",
      "Fold 1 Validation Loss: 1.0158\n",
      "\n",
      "Fold 2/10\n",
      "Epoch 10/50, Loss: 0.1695, Val Loss: 0.1639\n",
      "Epoch 20/50, Loss: 0.1088, Val Loss: 0.2561\n",
      "Epoch 30/50, Loss: 0.0702, Val Loss: 0.3267\n",
      "Epoch 40/50, Loss: 0.2359, Val Loss: 0.3884\n",
      "Epoch 50/50, Loss: 0.0003, Val Loss: 0.4178\n",
      "Fold 2 Validation Loss: 0.4178\n",
      "\n",
      "Fold 3/10\n",
      "Epoch 10/50, Loss: 0.0934, Val Loss: 0.1029\n",
      "Epoch 20/50, Loss: 0.4788, Val Loss: 0.1630\n",
      "Epoch 30/50, Loss: 0.2874, Val Loss: 0.2198\n",
      "Epoch 40/50, Loss: 0.8649, Val Loss: 0.2651\n",
      "Epoch 50/50, Loss: 0.3196, Val Loss: 0.2864\n",
      "Fold 3 Validation Loss: 0.2864\n",
      "\n",
      "Fold 4/10\n",
      "Epoch 10/50, Loss: 0.1364, Val Loss: 0.0878\n",
      "Epoch 20/50, Loss: 0.0955, Val Loss: 0.1412\n",
      "Epoch 30/50, Loss: 0.0277, Val Loss: 0.1672\n",
      "Epoch 40/50, Loss: 0.0000, Val Loss: 0.2241\n",
      "Epoch 50/50, Loss: 0.0002, Val Loss: 0.2430\n",
      "Fold 4 Validation Loss: 0.2430\n",
      "\n",
      "Fold 5/10\n",
      "Epoch 10/50, Loss: 0.0000, Val Loss: 0.0748\n",
      "Epoch 20/50, Loss: 0.0383, Val Loss: 0.1123\n",
      "Epoch 30/50, Loss: 0.5002, Val Loss: 0.1723\n",
      "Epoch 40/50, Loss: 0.0303, Val Loss: 0.1820\n",
      "Epoch 50/50, Loss: 0.0168, Val Loss: 0.1985\n",
      "Fold 5 Validation Loss: 0.1985\n",
      "\n",
      "Fold 6/10\n",
      "Epoch 10/50, Loss: 0.0004, Val Loss: 0.0897\n",
      "Epoch 20/50, Loss: 0.0003, Val Loss: 0.1145\n",
      "Epoch 30/50, Loss: 0.4240, Val Loss: 0.1654\n",
      "Epoch 40/50, Loss: 0.0000, Val Loss: 0.2141\n",
      "Epoch 50/50, Loss: 0.0434, Val Loss: 0.2554\n",
      "Fold 6 Validation Loss: 0.2554\n",
      "\n",
      "Fold 7/10\n",
      "Epoch 10/50, Loss: 0.5366, Val Loss: 0.0673\n",
      "Epoch 20/50, Loss: 0.0438, Val Loss: 0.1007\n",
      "Epoch 30/50, Loss: 0.0074, Val Loss: 0.1236\n",
      "Epoch 40/50, Loss: 0.0051, Val Loss: 0.1513\n",
      "Epoch 50/50, Loss: 0.0009, Val Loss: 0.1789\n",
      "Fold 7 Validation Loss: 0.1789\n",
      "\n",
      "Fold 8/10\n",
      "Epoch 10/50, Loss: 0.0250, Val Loss: 0.0630\n",
      "Epoch 20/50, Loss: 0.0383, Val Loss: 0.0937\n",
      "Epoch 30/50, Loss: 0.0094, Val Loss: 0.1317\n",
      "Epoch 40/50, Loss: 0.0015, Val Loss: 0.1733\n",
      "Epoch 50/50, Loss: 0.2193, Val Loss: 0.1953\n",
      "Fold 8 Validation Loss: 0.1953\n",
      "\n",
      "Fold 9/10\n",
      "Epoch 10/50, Loss: 0.0000, Val Loss: 0.0603\n",
      "Epoch 20/50, Loss: 0.1388, Val Loss: 0.1103\n",
      "Epoch 30/50, Loss: 0.0142, Val Loss: 0.1186\n",
      "Epoch 40/50, Loss: 0.2150, Val Loss: 0.1521\n",
      "Epoch 50/50, Loss: 0.0502, Val Loss: 0.1629\n",
      "Fold 9 Validation Loss: 0.1629\n",
      "\n",
      "Fold 10/10\n",
      "Epoch 10/50, Loss: 0.0349, Val Loss: 0.0633\n",
      "Epoch 20/50, Loss: 0.0401, Val Loss: 0.1023\n",
      "Epoch 30/50, Loss: 0.0165, Val Loss: 0.1408\n",
      "Epoch 40/50, Loss: 0.0024, Val Loss: 0.1494\n",
      "Epoch 50/50, Loss: 0.2319, Val Loss: 0.1819\n",
      "Fold 10 Validation Loss: 0.1819\n",
      "\n"
     ]
    }
   ],
   "source": [
    "for fold, (train_idx, val_idx) in enumerate(kf.split(X)):\n",
    "    print(f'Fold {fold+1}/{k_folds}')\n",
    "    \n",
    "    # Split data\n",
    "    X_train, X_val = X_tensor[train_idx], X_tensor[val_idx]\n",
    "    y_train, y_val = y_tensor[train_idx], y_tensor[val_idx]\n",
    "    \n",
    "    # Create DataLoader\n",
    "    train_dataset = torch.utils.data.TensorDataset(X_train, y_train)\n",
    "    train_loader = torch.utils.data.DataLoader(train_dataset, batch_size=batch_size, shuffle=True)\n",
    "    \n",
    "    # Train the model\n",
    "    for epoch in range(num_epochs):\n",
    "        model.train()\n",
    "        for X_batch, y_batch in train_loader:\n",
    "            optimizer.zero_grad()\n",
    "            outputs = model(X_batch)\n",
    "            loss = criterion(outputs, y_batch)\n",
    "            loss.backward()\n",
    "            optimizer.step()\n",
    "        \n",
    "        if (epoch+1) % 10 == 0:\n",
    "            model.eval()\n",
    "            with torch.no_grad():\n",
    "                val_outputs = model(X_val)\n",
    "                val_loss = criterion(val_outputs, y_val)\n",
    "            print(f'Epoch {epoch+1}/{num_epochs}, Loss: {loss.item():.4f}, Val Loss: {val_loss.item():.4f}')\n",
    "    \n",
    "    # Final validation loss for the fold\n",
    "    model.eval()\n",
    "    with torch.no_grad():\n",
    "        val_outputs = model(X_val)\n",
    "        val_loss = criterion(val_outputs, y_val)\n",
    "    print(f'Fold {fold+1} Validation Loss: {val_loss.item():.4f}\\n')"
   ]
  },
  {
   "cell_type": "code",
   "execution_count": null,
   "metadata": {},
   "outputs": [],
   "source": []
  }
 ],
 "metadata": {
  "colab": {
   "collapsed_sections": [
    "bwm_mid16SQA",
    "2LPXAR9X6SQB",
    "v42SoQeD6SQB",
    "xYyQicVr6SQB",
    "K-MMbhAC6SQF"
   ],
   "name": "IMP-PCMLAI-M23-reinforcement-learning-tutorial.ipynb",
   "provenance": []
  },
  "kernelspec": {
   "display_name": "Python 3 (ipykernel)",
   "language": "python",
   "name": "python3"
  },
  "language_info": {
   "codemirror_mode": {
    "name": "ipython",
    "version": 3
   },
   "file_extension": ".py",
   "mimetype": "text/x-python",
   "name": "python",
   "nbconvert_exporter": "python",
   "pygments_lexer": "ipython3",
   "version": "3.11.9"
  }
 },
 "nbformat": 4,
 "nbformat_minor": 1
}
