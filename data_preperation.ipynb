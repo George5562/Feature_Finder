{
 "cells": [
  {
   "cell_type": "code",
   "execution_count": 1,
   "metadata": {},
   "outputs": [],
   "source": [
    "import pandas as pd\n",
    "from sklearn.model_selection import train_test_split\n",
    "from sklearn.preprocessing import StandardScaler\n",
    "\n",
    "# Load the data\n",
    "data = pd.read_csv('processed_data_final.csv')"
   ]
  },
  {
   "cell_type": "code",
   "execution_count": 2,
   "metadata": {},
   "outputs": [],
   "source": [
    "# Separate features and target\n",
    "X = data.drop(columns=['JobSatisfaction_O'])\n",
    "y = data['JobSatisfaction_O']"
   ]
  },
  {
   "cell_type": "code",
   "execution_count": 15,
   "metadata": {},
   "outputs": [
    {
     "name": "stdout",
     "output_type": "stream",
     "text": [
      "Count of numerical fixed columns: 11\n",
      "Count of numerical actionable columns: 8\n",
      "Count of binary fixed columns: 339\n",
      "Count of binary actionable columns: 205\n",
      "Total count of columns: 563\n"
     ]
    }
   ],
   "source": [
    "# Identify columns by category\n",
    "numerical_fixed_columns = [col for col in X.columns if col.endswith('_F') and X[col].dtype == 'float64']\n",
    "numerical_actionable_columns = [col for col in X.columns if col.endswith('_A') and X[col].dtype == 'float64']\n",
    "binary_fixed_columns = [col for col in X.columns if col.endswith('_F') and X[col].dtype == 'int64']\n",
    "binary_actionable_columns = [col for col in X.columns if col.endswith('_A') and X[col].dtype == 'int64']\n"
   ]
  },
  {
   "cell_type": "code",
   "execution_count": 16,
   "metadata": {},
   "outputs": [],
   "source": [
    "# Organize binary actionable columns by their respective questions\n",
    "binary_actionable_groups = {}\n",
    "for col in binary_actionable_columns:\n",
    "    question_prefix = '_'.join(col.split('_')[:-2])\n",
    "    if question_prefix not in binary_actionable_groups:\n",
    "        binary_actionable_groups[question_prefix] = []\n",
    "    binary_actionable_groups[question_prefix].append(col)"
   ]
  },
  {
   "cell_type": "code",
   "execution_count": 18,
   "metadata": {},
   "outputs": [],
   "source": [
    "# Normalize the numerical columns\n",
    "scaler = StandardScaler()\n",
    "X[numerical_fixed_columns + numerical_actionable_columns] = scaler.fit_transform(X[numerical_fixed_columns + numerical_actionable_columns])"
   ]
  },
  {
   "cell_type": "code",
   "execution_count": 19,
   "metadata": {},
   "outputs": [],
   "source": [
    "\n",
    "preprocessing_info = {\n",
    "    'numerical_fixed_columns': numerical_fixed_columns,\n",
    "    'numerical_actionable_columns': numerical_actionable_columns,\n",
    "    'binary_fixed_columns': binary_fixed_columns,\n",
    "    'binary_actionable_groups': binary_actionable_groups,\n",
    "    'scaler': scaler\n",
    "}"
   ]
  }
 ],
 "metadata": {
  "colab": {
   "collapsed_sections": [
    "bwm_mid16SQA",
    "2LPXAR9X6SQB",
    "v42SoQeD6SQB",
    "xYyQicVr6SQB",
    "K-MMbhAC6SQF"
   ],
   "name": "IMP-PCMLAI-M23-reinforcement-learning-tutorial.ipynb",
   "provenance": []
  },
  "kernelspec": {
   "display_name": "Python 3 (ipykernel)",
   "language": "python",
   "name": "python3"
  },
  "language_info": {
   "codemirror_mode": {
    "name": "ipython",
    "version": 3
   },
   "file_extension": ".py",
   "mimetype": "text/x-python",
   "name": "python",
   "nbconvert_exporter": "python",
   "pygments_lexer": "ipython3",
   "version": "3.11.9"
  }
 },
 "nbformat": 4,
 "nbformat_minor": 1
}
